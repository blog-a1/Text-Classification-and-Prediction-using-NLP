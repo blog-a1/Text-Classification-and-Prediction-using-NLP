{
  "nbformat": 4,
  "nbformat_minor": 0,
  "metadata": {
    "colab": {
      "provenance": []
    },
    "kernelspec": {
      "name": "python3",
      "display_name": "Python 3"
    },
    "language_info": {
      "name": "python"
    },
    "accelerator": "GPU",
    "gpuClass": "standard"
  },
  "cells": [
    {
      "cell_type": "code",
      "source": [
        "import logging\n",
        "import pandas as pd\n",
        "import numpy as np\n",
        "from numpy import random\n",
        "import nltk\n",
        "from sklearn.feature_extraction.text import CountVectorizer, TfidfVectorizer\n",
        "from sklearn.metrics import accuracy_score, confusion_matrix\n",
        "import matplotlib.pyplot as plt\n",
        "from nltk.corpus import stopwords\n",
        "import re\n",
        "%matplotlib inline\n",
        "nltk.download('stopwords')"
      ],
      "metadata": {
        "colab": {
          "base_uri": "https://localhost:8080/"
        },
        "id": "zBvrnumazuYs",
        "outputId": "c9a25a4f-1685-4973-e056-5cc5e6d185bd"
      },
      "execution_count": 86,
      "outputs": [
        {
          "output_type": "stream",
          "name": "stderr",
          "text": [
            "[nltk_data] Downloading package stopwords to /root/nltk_data...\n",
            "[nltk_data]   Package stopwords is already up-to-date!\n"
          ]
        },
        {
          "output_type": "execute_result",
          "data": {
            "text/plain": [
              "True"
            ]
          },
          "metadata": {},
          "execution_count": 86
        }
      ]
    },
    {
      "cell_type": "code",
      "source": [
        "#files.upload('Training_dataset.xlsx')\n",
        "#!rm Training_dataset.xlsx\n",
        "#!rm Validation_dataset.csv\n",
        "\n",
        "from google.colab import files\n",
        "\n",
        "uploaded = files.upload()\n",
        "\n",
        "for fn in uploaded.keys():\n",
        "  print('User uploaded file \"{name}\" with length {length} bytes'.format(\n",
        "      name=fn, length=len(uploaded[fn])))"
      ],
      "metadata": {
        "colab": {
          "base_uri": "https://localhost:8080/",
          "height": 91
        },
        "id": "jyhHNN0Mz0K4",
        "outputId": "99e9e301-e0eb-4445-af29-b11651874239"
      },
      "execution_count": 87,
      "outputs": [
        {
          "output_type": "display_data",
          "data": {
            "text/plain": [
              "<IPython.core.display.HTML object>"
            ],
            "text/html": [
              "\n",
              "     <input type=\"file\" id=\"files-c99652a5-8310-4e3a-b6c8-cd5fa8b2b189\" name=\"files[]\" multiple disabled\n",
              "        style=\"border:none\" />\n",
              "     <output id=\"result-c99652a5-8310-4e3a-b6c8-cd5fa8b2b189\">\n",
              "      Upload widget is only available when the cell has been executed in the\n",
              "      current browser session. Please rerun this cell to enable.\n",
              "      </output>\n",
              "      <script>// Copyright 2017 Google LLC\n",
              "//\n",
              "// Licensed under the Apache License, Version 2.0 (the \"License\");\n",
              "// you may not use this file except in compliance with the License.\n",
              "// You may obtain a copy of the License at\n",
              "//\n",
              "//      http://www.apache.org/licenses/LICENSE-2.0\n",
              "//\n",
              "// Unless required by applicable law or agreed to in writing, software\n",
              "// distributed under the License is distributed on an \"AS IS\" BASIS,\n",
              "// WITHOUT WARRANTIES OR CONDITIONS OF ANY KIND, either express or implied.\n",
              "// See the License for the specific language governing permissions and\n",
              "// limitations under the License.\n",
              "\n",
              "/**\n",
              " * @fileoverview Helpers for google.colab Python module.\n",
              " */\n",
              "(function(scope) {\n",
              "function span(text, styleAttributes = {}) {\n",
              "  const element = document.createElement('span');\n",
              "  element.textContent = text;\n",
              "  for (const key of Object.keys(styleAttributes)) {\n",
              "    element.style[key] = styleAttributes[key];\n",
              "  }\n",
              "  return element;\n",
              "}\n",
              "\n",
              "// Max number of bytes which will be uploaded at a time.\n",
              "const MAX_PAYLOAD_SIZE = 100 * 1024;\n",
              "\n",
              "function _uploadFiles(inputId, outputId) {\n",
              "  const steps = uploadFilesStep(inputId, outputId);\n",
              "  const outputElement = document.getElementById(outputId);\n",
              "  // Cache steps on the outputElement to make it available for the next call\n",
              "  // to uploadFilesContinue from Python.\n",
              "  outputElement.steps = steps;\n",
              "\n",
              "  return _uploadFilesContinue(outputId);\n",
              "}\n",
              "\n",
              "// This is roughly an async generator (not supported in the browser yet),\n",
              "// where there are multiple asynchronous steps and the Python side is going\n",
              "// to poll for completion of each step.\n",
              "// This uses a Promise to block the python side on completion of each step,\n",
              "// then passes the result of the previous step as the input to the next step.\n",
              "function _uploadFilesContinue(outputId) {\n",
              "  const outputElement = document.getElementById(outputId);\n",
              "  const steps = outputElement.steps;\n",
              "\n",
              "  const next = steps.next(outputElement.lastPromiseValue);\n",
              "  return Promise.resolve(next.value.promise).then((value) => {\n",
              "    // Cache the last promise value to make it available to the next\n",
              "    // step of the generator.\n",
              "    outputElement.lastPromiseValue = value;\n",
              "    return next.value.response;\n",
              "  });\n",
              "}\n",
              "\n",
              "/**\n",
              " * Generator function which is called between each async step of the upload\n",
              " * process.\n",
              " * @param {string} inputId Element ID of the input file picker element.\n",
              " * @param {string} outputId Element ID of the output display.\n",
              " * @return {!Iterable<!Object>} Iterable of next steps.\n",
              " */\n",
              "function* uploadFilesStep(inputId, outputId) {\n",
              "  const inputElement = document.getElementById(inputId);\n",
              "  inputElement.disabled = false;\n",
              "\n",
              "  const outputElement = document.getElementById(outputId);\n",
              "  outputElement.innerHTML = '';\n",
              "\n",
              "  const pickedPromise = new Promise((resolve) => {\n",
              "    inputElement.addEventListener('change', (e) => {\n",
              "      resolve(e.target.files);\n",
              "    });\n",
              "  });\n",
              "\n",
              "  const cancel = document.createElement('button');\n",
              "  inputElement.parentElement.appendChild(cancel);\n",
              "  cancel.textContent = 'Cancel upload';\n",
              "  const cancelPromise = new Promise((resolve) => {\n",
              "    cancel.onclick = () => {\n",
              "      resolve(null);\n",
              "    };\n",
              "  });\n",
              "\n",
              "  // Wait for the user to pick the files.\n",
              "  const files = yield {\n",
              "    promise: Promise.race([pickedPromise, cancelPromise]),\n",
              "    response: {\n",
              "      action: 'starting',\n",
              "    }\n",
              "  };\n",
              "\n",
              "  cancel.remove();\n",
              "\n",
              "  // Disable the input element since further picks are not allowed.\n",
              "  inputElement.disabled = true;\n",
              "\n",
              "  if (!files) {\n",
              "    return {\n",
              "      response: {\n",
              "        action: 'complete',\n",
              "      }\n",
              "    };\n",
              "  }\n",
              "\n",
              "  for (const file of files) {\n",
              "    const li = document.createElement('li');\n",
              "    li.append(span(file.name, {fontWeight: 'bold'}));\n",
              "    li.append(span(\n",
              "        `(${file.type || 'n/a'}) - ${file.size} bytes, ` +\n",
              "        `last modified: ${\n",
              "            file.lastModifiedDate ? file.lastModifiedDate.toLocaleDateString() :\n",
              "                                    'n/a'} - `));\n",
              "    const percent = span('0% done');\n",
              "    li.appendChild(percent);\n",
              "\n",
              "    outputElement.appendChild(li);\n",
              "\n",
              "    const fileDataPromise = new Promise((resolve) => {\n",
              "      const reader = new FileReader();\n",
              "      reader.onload = (e) => {\n",
              "        resolve(e.target.result);\n",
              "      };\n",
              "      reader.readAsArrayBuffer(file);\n",
              "    });\n",
              "    // Wait for the data to be ready.\n",
              "    let fileData = yield {\n",
              "      promise: fileDataPromise,\n",
              "      response: {\n",
              "        action: 'continue',\n",
              "      }\n",
              "    };\n",
              "\n",
              "    // Use a chunked sending to avoid message size limits. See b/62115660.\n",
              "    let position = 0;\n",
              "    do {\n",
              "      const length = Math.min(fileData.byteLength - position, MAX_PAYLOAD_SIZE);\n",
              "      const chunk = new Uint8Array(fileData, position, length);\n",
              "      position += length;\n",
              "\n",
              "      const base64 = btoa(String.fromCharCode.apply(null, chunk));\n",
              "      yield {\n",
              "        response: {\n",
              "          action: 'append',\n",
              "          file: file.name,\n",
              "          data: base64,\n",
              "        },\n",
              "      };\n",
              "\n",
              "      let percentDone = fileData.byteLength === 0 ?\n",
              "          100 :\n",
              "          Math.round((position / fileData.byteLength) * 100);\n",
              "      percent.textContent = `${percentDone}% done`;\n",
              "\n",
              "    } while (position < fileData.byteLength);\n",
              "  }\n",
              "\n",
              "  // All done.\n",
              "  yield {\n",
              "    response: {\n",
              "      action: 'complete',\n",
              "    }\n",
              "  };\n",
              "}\n",
              "\n",
              "scope.google = scope.google || {};\n",
              "scope.google.colab = scope.google.colab || {};\n",
              "scope.google.colab._files = {\n",
              "  _uploadFiles,\n",
              "  _uploadFilesContinue,\n",
              "};\n",
              "})(self);\n",
              "</script> "
            ]
          },
          "metadata": {}
        },
        {
          "output_type": "stream",
          "name": "stdout",
          "text": [
            "Saving Training_dataset.xlsx to Training_dataset (2).xlsx\n",
            "User uploaded file \"Training_dataset.xlsx\" with length 33489 bytes\n"
          ]
        }
      ]
    },
    {
      "cell_type": "code",
      "source": [
        "df = pd.read_excel('Training_dataset.xlsx')\n",
        "df = df[pd.notnull(df['TARGET'])]\n",
        "dft=pd.read_csv('/content/Book1.csv',sep=';')\n",
        "dft = dft[pd.notnull(dft['TARGET'])]\n",
        "print(df.head(10))\n",
        "print(dft.head(10))"
      ],
      "metadata": {
        "colab": {
          "base_uri": "https://localhost:8080/"
        },
        "id": "-1_4omc7z2Oz",
        "outputId": "0ed969c3-e5f5-41f2-e335-dd17faf62727"
      },
      "execution_count": 88,
      "outputs": [
        {
          "output_type": "stream",
          "name": "stdout",
          "text": [
            "                                               TEXT           TARGET\n",
            "0                 I want to activate my credit card  activate_card_0\n",
            "1              I don't know how to activate my card  activate_card_0\n",
            "2                        I want to activate my card  activate_card_0\n",
            "3      Why is your activation process not working ?  activate_card_0\n",
            "4                        My bank card is not active  activate_card_0\n",
            "5                         I cannot activate my card  activate_card_0\n",
            "6                    How can I start using my card?  activate_card_0\n",
            "7                  I want to activate my debit card  activate_card_0\n",
            "8              I need your help to activate my card  activate_card_0\n",
            "9  Please activate my card for me, it's not working  activate_card_0\n",
            "                                     TEXT                    TARGET\n",
            "0          I want to use my card in Japan  use_abroad_0f_non_europe\n",
            "1                    Activate card abroad              use_abroad_0\n",
            "2       I want to use my card in Portugal      use_abroad_0e_europe\n",
            "3      I want to use my debit card abroad       use_abroad_0b_debit\n",
            "4  i want to use my credit card in France      use_abroad_0a_credit\n",
            "5     I want to use my credit card abroad      use_abroad_0a_credit\n",
            "6            I want to use my card abroad              use_abroad_0\n",
            "7                          I lost my card               lost_card_0\n",
            "8          I want to change my card limit            modify_limit_0\n",
            "9                 I want to block my card               card_stop_0\n"
          ]
        }
      ]
    },
    {
      "cell_type": "code",
      "source": [
        "my_Labels = ['activate_card_0','pin_by_sms_0','get_card_limit_0','info_card_types_credit_0','order_card_0','use_abroad_0','info_charges_abroad_0','new_pin_0',\n",
        "           'use_abroad_0f_non_europe','contactless_0','unblock_card_0','cards_overview_0','modify_limit_0','lost_card_0 ', 'activate_card_0','balance_0',\n",
        "           'card_stop_0','use_abroad_0e_europe','new_card_reader_0','use_abroad_0a_credit','info_abroad_0','get_transaction_info_0','use_abroad_0b_debit',\n",
        "           'info_CVC_CVV_0 ','order_card_0e_replacement','info_card_number_0', 'order_card_0d_extra','info_card_expiration_0 '\n",
        "           \n",
        "          ]"
      ],
      "metadata": {
        "id": "x77LKLwnz4UU"
      },
      "execution_count": 89,
      "outputs": []
    },
    {
      "cell_type": "code",
      "source": [
        "print(df['TEXT'].apply(lambda x: len(x.split(' '))).sum()) #number of words in the Message column before cleaning"
      ],
      "metadata": {
        "colab": {
          "base_uri": "https://localhost:8080/"
        },
        "id": "k034aTX1z6Ei",
        "outputId": "0c765417-41a9-482a-ea9f-f853a1f4d63c"
      },
      "execution_count": 90,
      "outputs": [
        {
          "output_type": "stream",
          "name": "stdout",
          "text": [
            "7181\n"
          ]
        }
      ]
    },
    {
      "cell_type": "code",
      "source": [
        "#training set\n",
        "plt.figure(figsize=(10,4))\n",
        "df.TARGET.value_counts().plot(kind='bar');\n",
        "df.TARGET.size"
      ],
      "metadata": {
        "colab": {
          "base_uri": "https://localhost:8080/",
          "height": 411
        },
        "id": "mt4U5_oRz8sP",
        "outputId": "5e9fd158-8980-4c86-8b9f-246ebdfd6d54"
      },
      "execution_count": 91,
      "outputs": [
        {
          "output_type": "execute_result",
          "data": {
            "text/plain": [
              "889"
            ]
          },
          "metadata": {},
          "execution_count": 91
        },
        {
          "output_type": "display_data",
          "data": {
            "text/plain": [
              "<Figure size 720x288 with 1 Axes>"
            ],
            "image/png": "[encoded data removed]"
          },
          "metadata": {
            "needs_background": "light"
          }
        }
      ]
    },
    {
      "cell_type": "code",
      "source": [
        "#test set\n",
        "plt.figure(figsize=(10,4))\n",
        "dft.TARGET.value_counts().plot(kind='bar');\n",
        "dft.TARGET.size"
      ],
      "metadata": {
        "colab": {
          "base_uri": "https://localhost:8080/",
          "height": 411
        },
        "id": "XrF8oAw10M6b",
        "outputId": "ff959911-4abe-4284-a7d9-2a469ff7c26b"
      },
      "execution_count": 92,
      "outputs": [
        {
          "output_type": "execute_result",
          "data": {
            "text/plain": [
              "394"
            ]
          },
          "metadata": {},
          "execution_count": 92
        },
        {
          "output_type": "display_data",
          "data": {
            "text/plain": [
              "<Figure size 720x288 with 1 Axes>"
            ],
            "image/png": "[encoded data removed]"
          },
          "metadata": {
            "needs_background": "light"
          }
        }
      ]
    },
    {
      "cell_type": "code",
      "source": [
        "dft = dft.replace('inactive_card_0', np.nan).dropna()\n",
        "print(dft.TARGET.value_counts())\n",
        "dft.TARGET.size"
      ],
      "metadata": {
        "colab": {
          "base_uri": "https://localhost:8080/"
        },
        "id": "oRX-34cL0OoN",
        "outputId": "52d2c77d-bfaf-4117-d6d3-f43971650595"
      },
      "execution_count": 93,
      "outputs": [
        {
          "output_type": "stream",
          "name": "stdout",
          "text": [
            "use_abroad_0                 46\n",
            "card_delivery_0              41\n",
            "new_pin_0                    34\n",
            "unblock_card_0               29\n",
            "order_card_0                 27\n",
            "modify_limit_0               26\n",
            "use_abroad_0f_non_europe     25\n",
            "activate_card_0              19\n",
            "cards_overview_0             18\n",
            "get_card_limit_0             12\n",
            "card_stop_0                  12\n",
            "order_card_0e_replacement    11\n",
            "lost_card_0                  11\n",
            "info_charges_abroad_0        11\n",
            "use_abroad_0a_credit          9\n",
            "balance_0                     9\n",
            "new_card_reader_0             7\n",
            "use_abroad_0b_debit           7\n",
            "contactless_0                 7\n",
            "pin_by_sms_0                  6\n",
            "use_abroad_0e_europe          5\n",
            "info_card_number_0            4\n",
            "info_CVC_CVV_0                3\n",
            "info_abroad_0                 3\n",
            "info_card_expiration_0        3\n",
            "order_card_0d_extra           2\n",
            "get_transaction_info_0        2\n",
            "info_card_types_credit_0      2\n",
            "Name: TARGET, dtype: int64\n"
          ]
        },
        {
          "output_type": "execute_result",
          "data": {
            "text/plain": [
              "391"
            ]
          },
          "metadata": {},
          "execution_count": 93
        }
      ]
    },
    {
      "cell_type": "code",
      "source": [
        "#see some text and \n",
        "def print_plot(index):\n",
        "    example = df[df.index == index][['TEXT','TARGET']].values[0]\n",
        "    if len(example) > 0:\n",
        "        print(example[0])\n",
        "        print(example[1])\n",
        "print_plot(10) # you can print any Attribute here with changing the index"
      ],
      "metadata": {
        "colab": {
          "base_uri": "https://localhost:8080/"
        },
        "id": "NWJo5woN0QqW",
        "outputId": "d6f1f250-fff3-446c-a340-25f4c7c19778"
      },
      "execution_count": 94,
      "outputs": [
        {
          "output_type": "stream",
          "name": "stdout",
          "text": [
            "Do I have to do anything before I can use my card?\n",
            "activate_card_0\n"
          ]
        }
      ]
    },
    {
      "cell_type": "code",
      "source": [
        "#print a group of training set\n",
        "for i in range(25 , 35):\n",
        "  print_plot(i)\n",
        "  "
      ],
      "metadata": {
        "colab": {
          "base_uri": "https://localhost:8080/"
        },
        "id": "Mrt1c3hi0S1q",
        "outputId": "b2422112-1636-498d-f95e-8c2bd51d0926"
      },
      "execution_count": 95,
      "outputs": [
        {
          "output_type": "stream",
          "name": "stdout",
          "text": [
            "Do I have to do something before I can use my card?\n",
            "activate_card_0\n",
            "I need to activate my debit card\n",
            "activate_card_0\n",
            "I have to unlock my credit card\n",
            "activate_card_0\n",
            "I have my card, what should I do?\n",
            "activate_card_0\n",
            "activate card please\n",
            "activate_card_0\n",
            "does my account have money on it?\n",
            "balance_0\n",
            "do i have money?\n",
            "balance_0\n",
            "what is my balance\n",
            "balance_0\n",
            "Where can I get my card statement?\n",
            "balance_0\n",
            "what's my balance?\n",
            "balance_0\n"
          ]
        }
      ]
    },
    {
      "cell_type": "code",
      "source": [
        "'''\n",
        "text cleaning step includes remove stop words,\n",
        "change text to lower case, remove punctuation, remove bad characters, and so on.\n",
        "'''\n",
        "REPLACE_BY_SPACE_RE = re.compile('[/(){}\\[\\]\\|@,;]')\n",
        "BAD_SYMBOLS_RE = re.compile('[^0-9a-z #+_]')\n",
        "STOPWORDS = set(stopwords.words('english'))\n",
        "\n",
        "\n",
        "def clean_text(text):\n",
        "    \"\"\"\n",
        "        text: a string\n",
        "        \n",
        "        return: modified initial string\n",
        "    \"\"\"\n",
        "   \n",
        "    text = text.lower() # lowercase text\n",
        "    text = REPLACE_BY_SPACE_RE.sub(' ', text) # replace REPLACE_BY_SPACE_RE symbols by space in text\n",
        "    text = BAD_SYMBOLS_RE.sub('', text) # delete symbols which are in BAD_SYMBOLS_RE from text\n",
        "    text = ' '.join(word for word in text.split() if word not in STOPWORDS) # delete stopwors from text\n",
        "    return text\n",
        "    \n",
        "df['TEXT'] = df['TEXT'].apply(clean_text) # clean training set\n",
        "dft['TEXT'] = dft['TEXT'].apply(clean_text) # clean test set\n",
        "#df['AdditionalCondition'] = df['AdditionalCondition'].apply(clean_text)\n",
        "\n",
        "print_plot(21) # just an example you can change the index print_plot(index)"
      ],
      "metadata": {
        "colab": {
          "base_uri": "https://localhost:8080/"
        },
        "id": "h8nKMxF30UoD",
        "outputId": "6c7953a9-9d18-4ae1-a210-77af881adda9"
      },
      "execution_count": 96,
      "outputs": [
        {
          "output_type": "stream",
          "name": "stdout",
          "text": [
            "help activate card\n",
            "activate_card_0\n"
          ]
        }
      ]
    },
    {
      "cell_type": "code",
      "source": [
        "#print a group of training set after cleaning\n",
        "for i in range(25 , 35):\n",
        "  print_plot(i)"
      ],
      "metadata": {
        "colab": {
          "base_uri": "https://localhost:8080/"
        },
        "id": "xzrlAhkx0XUZ",
        "outputId": "8c9a0675-b9af-4368-ed97-613d259c9a05"
      },
      "execution_count": 97,
      "outputs": [
        {
          "output_type": "stream",
          "name": "stdout",
          "text": [
            "something use card\n",
            "activate_card_0\n",
            "need activate debit card\n",
            "activate_card_0\n",
            "unlock credit card\n",
            "activate_card_0\n",
            "card\n",
            "activate_card_0\n",
            "activate card please\n",
            "activate_card_0\n",
            "account money\n",
            "balance_0\n",
            "money\n",
            "balance_0\n",
            "balance\n",
            "balance_0\n",
            "get card statement\n",
            "balance_0\n",
            "whats balance\n",
            "balance_0\n"
          ]
        }
      ]
    },
    {
      "cell_type": "code",
      "source": [
        "print(df['TEXT'].apply(lambda x: len(x.split(' '))).sum()) #number of words in the TEXT column After cleaning training set\n",
        "print(dft['TEXT'].apply(lambda x: len(x.split(' '))).sum()) #number of words in the TEXT column After cleaning test set"
      ],
      "metadata": {
        "colab": {
          "base_uri": "https://localhost:8080/"
        },
        "id": "251CqUEu0abK",
        "outputId": "6be36028-232a-4311-8eb4-c52a3600393b"
      },
      "execution_count": 98,
      "outputs": [
        {
          "output_type": "stream",
          "name": "stdout",
          "text": [
            "3409\n",
            "1598\n"
          ]
        }
      ]
    },
    {
      "cell_type": "code",
      "source": [
        "X_train = df.TEXT\n",
        "y_train = df.TARGET\n",
        "#X_train, X_test, y_train, y_test = train_test_split(X_train,y_train , test_size=0.7, random_state = 42)\n",
        "X_test = dft.TEXT\n",
        "y_test = dft.TARGET"
      ],
      "metadata": {
        "id": "2bXJ9gKh0chV"
      },
      "execution_count": 99,
      "outputs": []
    },
    {
      "cell_type": "code",
      "source": [
        "#Naive Bayes Classifier\n",
        "from sklearn.naive_bayes import MultinomialNB\n",
        "from sklearn.pipeline import Pipeline\n",
        "from sklearn.feature_extraction.text import TfidfTransformer\n",
        "\n",
        "nb = Pipeline([('vect', CountVectorizer()),\n",
        "               ('tfidf', TfidfTransformer()),\n",
        "               ('clf', MultinomialNB()),\n",
        "              ])\n",
        "nb.fit(X_train, y_train)\n",
        "\n",
        "from sklearn.metrics import classification_report\n",
        "y_pred = nb.predict(X_test)\n",
        "\n",
        "print('accuracy %s' % accuracy_score(y_pred, y_test))\n",
        "# Print a human readable report\n",
        "print(classification_report(y_test, y_pred,target_names=my_Labels))"
      ],
      "metadata": {
        "colab": {
          "base_uri": "https://localhost:8080/"
        },
        "id": "ZnuWeQcr0erU",
        "outputId": "88beb77a-4cf7-4c30-fc66-ca17209bed39"
      },
      "execution_count": 100,
      "outputs": [
        {
          "output_type": "stream",
          "name": "stdout",
          "text": [
            "accuracy 0.6010230179028133\n",
            "                           precision    recall  f1-score   support\n",
            "\n",
            "          activate_card_0       0.89      0.42      0.57        19\n",
            "             pin_by_sms_0       0.83      0.56      0.67         9\n",
            "         get_card_limit_0       0.51      0.90      0.65        41\n",
            " info_card_types_credit_0       1.00      0.75      0.86        12\n",
            "             order_card_0       0.94      0.83      0.88        18\n",
            "             use_abroad_0       1.00      1.00      1.00         7\n",
            "    info_charges_abroad_0       0.38      0.75      0.50        12\n",
            "                new_pin_0       0.00      0.00      0.00         2\n",
            " use_abroad_0f_non_europe       0.00      0.00      0.00         3\n",
            "            contactless_0       0.00      0.00      0.00         3\n",
            "           unblock_card_0       0.00      0.00      0.00         3\n",
            "         cards_overview_0       0.00      0.00      0.00         4\n",
            "           modify_limit_0       0.10      1.00      0.18         2\n",
            "             lost_card_0        0.39      0.64      0.48        11\n",
            "          activate_card_0       1.00      0.91      0.95        11\n",
            "                balance_0       1.00      0.50      0.67        26\n",
            "              card_stop_0       1.00      0.14      0.25         7\n",
            "     use_abroad_0e_europe       0.91      0.59      0.71        34\n",
            "        new_card_reader_0       0.69      0.89      0.77        27\n",
            "     use_abroad_0a_credit       0.00      0.00      0.00         2\n",
            "            info_abroad_0       0.00      0.00      0.00        11\n",
            "   get_transaction_info_0       0.13      0.67      0.22         6\n",
            "      use_abroad_0b_debit       1.00      0.69      0.82        29\n",
            "          info_CVC_CVV_0        0.53      0.80      0.64        46\n",
            "order_card_0e_replacement       0.00      0.00      0.00         9\n",
            "       info_card_number_0       0.00      0.00      0.00         7\n",
            "      order_card_0d_extra       0.00      0.00      0.00         5\n",
            "  info_card_expiration_0        0.88      0.28      0.42        25\n",
            "\n",
            "                 accuracy                           0.60       391\n",
            "                macro avg       0.47      0.44      0.40       391\n",
            "             weighted avg       0.66      0.60      0.58       391\n",
            "\n"
          ]
        },
        {
          "output_type": "stream",
          "name": "stderr",
          "text": [
            "/usr/local/lib/python3.7/dist-packages/sklearn/metrics/_classification.py:1318: UndefinedMetricWarning: Precision and F-score are ill-defined and being set to 0.0 in labels with no predicted samples. Use `zero_division` parameter to control this behavior.\n",
            "  _warn_prf(average, modifier, msg_start, len(result))\n",
            "/usr/local/lib/python3.7/dist-packages/sklearn/metrics/_classification.py:1318: UndefinedMetricWarning: Precision and F-score are ill-defined and being set to 0.0 in labels with no predicted samples. Use `zero_division` parameter to control this behavior.\n",
            "  _warn_prf(average, modifier, msg_start, len(result))\n",
            "/usr/local/lib/python3.7/dist-packages/sklearn/metrics/_classification.py:1318: UndefinedMetricWarning: Precision and F-score are ill-defined and being set to 0.0 in labels with no predicted samples. Use `zero_division` parameter to control this behavior.\n",
            "  _warn_prf(average, modifier, msg_start, len(result))\n"
          ]
        }
      ]
    },
    {
      "cell_type": "code",
      "source": [
        "#Logistic Regression\n",
        "from sklearn.linear_model import LogisticRegression\n",
        "\n",
        "logreg = Pipeline([('vect', CountVectorizer()),\n",
        "                ('tfidf', TfidfTransformer()),\n",
        "                ('clf', LogisticRegression(n_jobs=1, C=1e5)),\n",
        "               ])\n",
        "\n",
        "logreg.fit(X_train, y_train)\n",
        "\n",
        "y_pred = logreg.predict(X_test)\n",
        "\n",
        "print('accuracy %s' % accuracy_score(y_pred, y_test))\n",
        "print(classification_report(y_test, y_pred,target_names=my_Labels))"
      ],
      "metadata": {
        "colab": {
          "base_uri": "https://localhost:8080/"
        },
        "id": "Gf08GQ5l0g-_",
        "outputId": "48e305b9-2a04-4982-eaf1-973c7b40b128"
      },
      "execution_count": 101,
      "outputs": [
        {
          "output_type": "stream",
          "name": "stdout",
          "text": [
            "accuracy 0.7340153452685422\n",
            "                           precision    recall  f1-score   support\n",
            "\n",
            "          activate_card_0       0.57      0.84      0.68        19\n",
            "             pin_by_sms_0       0.89      0.89      0.89         9\n",
            "         get_card_limit_0       0.70      0.85      0.77        41\n",
            " info_card_types_credit_0       1.00      0.92      0.96        12\n",
            "             order_card_0       0.74      0.78      0.76        18\n",
            "             use_abroad_0       1.00      1.00      1.00         7\n",
            "    info_charges_abroad_0       0.44      0.67      0.53        12\n",
            "                new_pin_0       0.00      0.00      0.00         2\n",
            " use_abroad_0f_non_europe       1.00      1.00      1.00         3\n",
            "            contactless_0       0.38      1.00      0.55         3\n",
            "           unblock_card_0       1.00      0.67      0.80         3\n",
            "         cards_overview_0       0.50      0.25      0.33         4\n",
            "           modify_limit_0       0.00      0.00      0.00         2\n",
            "             lost_card_0        1.00      0.55      0.71        11\n",
            "          activate_card_0       1.00      0.91      0.95        11\n",
            "                balance_0       0.85      0.65      0.74        26\n",
            "              card_stop_0       1.00      1.00      1.00         7\n",
            "     use_abroad_0e_europe       0.91      0.91      0.91        34\n",
            "        new_card_reader_0       0.60      0.93      0.72        27\n",
            "     use_abroad_0a_credit       0.00      0.00      0.00         2\n",
            "            info_abroad_0       1.00      0.18      0.31        11\n",
            "   get_transaction_info_0       0.45      0.83      0.59         6\n",
            "      use_abroad_0b_debit       1.00      0.83      0.91        29\n",
            "          info_CVC_CVV_0        0.68      0.78      0.73        46\n",
            "order_card_0e_replacement       0.50      0.33      0.40         9\n",
            "       info_card_number_0       1.00      0.43      0.60         7\n",
            "      order_card_0d_extra       1.00      0.20      0.33         5\n",
            "  info_card_expiration_0        0.75      0.36      0.49        25\n",
            "\n",
            "                 accuracy                           0.73       391\n",
            "                macro avg       0.71      0.63      0.63       391\n",
            "             weighted avg       0.77      0.73      0.72       391\n",
            "\n"
          ]
        },
        {
          "output_type": "stream",
          "name": "stderr",
          "text": [
            "/usr/local/lib/python3.7/dist-packages/sklearn/linear_model/_logistic.py:818: ConvergenceWarning: lbfgs failed to converge (status=1):\n",
            "STOP: TOTAL NO. of ITERATIONS REACHED LIMIT.\n",
            "\n",
            "Increase the number of iterations (max_iter) or scale the data as shown in:\n",
            "    https://scikit-learn.org/stable/modules/preprocessing.html\n",
            "Please also refer to the documentation for alternative solver options:\n",
            "    https://scikit-learn.org/stable/modules/linear_model.html#logistic-regression\n",
            "  extra_warning_msg=_LOGISTIC_SOLVER_CONVERGENCE_MSG,\n",
            "/usr/local/lib/python3.7/dist-packages/sklearn/metrics/_classification.py:1318: UndefinedMetricWarning: Precision and F-score are ill-defined and being set to 0.0 in labels with no predicted samples. Use `zero_division` parameter to control this behavior.\n",
            "  _warn_prf(average, modifier, msg_start, len(result))\n",
            "/usr/local/lib/python3.7/dist-packages/sklearn/metrics/_classification.py:1318: UndefinedMetricWarning: Precision and F-score are ill-defined and being set to 0.0 in labels with no predicted samples. Use `zero_division` parameter to control this behavior.\n",
            "  _warn_prf(average, modifier, msg_start, len(result))\n",
            "/usr/local/lib/python3.7/dist-packages/sklearn/metrics/_classification.py:1318: UndefinedMetricWarning: Precision and F-score are ill-defined and being set to 0.0 in labels with no predicted samples. Use `zero_division` parameter to control this behavior.\n",
            "  _warn_prf(average, modifier, msg_start, len(result))\n"
          ]
        }
      ]
    },
    {
      "cell_type": "code",
      "source": [
        "#Stochastic Gradient Descent\n",
        "from sklearn.linear_model import SGDClassifier\n",
        "\n",
        "sgd = Pipeline([('vect', CountVectorizer()),\n",
        "                ('tfidf', TfidfTransformer()),\n",
        "                ('clf', SGDClassifier()),\n",
        "               ])\n",
        "#loss='hinge', penalty='l2',alpha=1e-3, random_state=42, max_iter=5, tol=None\n",
        "sgd.fit(X_train, y_train)\n",
        "\n",
        "\n",
        "y_pred = sgd.predict(X_test)\n",
        "\n",
        "print('accuracy %s' % accuracy_score(y_pred, y_test))\n",
        "print(classification_report(y_test, y_pred,target_names=my_Labels))"
      ],
      "metadata": {
        "id": "kHdpOAXJ0jaz"
      },
      "execution_count": null,
      "outputs": []
    },
    {
      "cell_type": "code",
      "source": [
        "# Neural Network (deep Learning)\n",
        "import itertools\n",
        "import os\n",
        "import tensorflow as tf\n",
        "\n",
        "from sklearn.preprocessing import LabelBinarizer, LabelEncoder\n",
        "from sklearn.metrics import confusion_matrix\n",
        "\n",
        "from tensorflow import keras\n",
        "from keras.models import Sequential\n",
        "from keras.layers import Dense, Activation, Dropout\n",
        "from keras.preprocessing import text, sequence\n",
        "from keras import utils\n",
        "\n",
        "train_size = int(len(df))\n",
        "train_posts = df['TEXT'][:train_size]\n",
        "train_tags = df['TARGET'][:train_size]\n",
        "\n",
        "test_size = int(len(dft))\n",
        "test_posts = dft['TEXT'][test_size:]\n",
        "test_tags = dft['TARGET'][test_size:]\n",
        "\n",
        "max_words = 1000\n",
        "tokenize = text.Tokenizer(num_words=max_words, char_level=False)\n",
        "tokenize.fit_on_texts(train_posts) # only fit on train\n",
        "\n",
        "x_train = tokenize.texts_to_matrix(train_posts)\n",
        "x_test = tokenize.texts_to_matrix(test_posts)\n",
        "\n",
        "encoder = LabelEncoder()\n",
        "encoder.fit(train_tags)\n",
        "y_train = encoder.transform(train_tags)\n",
        "y_test = encoder.transform(test_tags)\n",
        "\n",
        "num_classes = np.max(y_train) + 1\n",
        "y_train = utils.to_categorical(y_train, num_classes)\n",
        "y_test = utils.to_categorical(y_test, num_classes)\n",
        "\n",
        "batch_size = 23\n",
        "epochs = 20\n",
        "\n",
        "# Build the model\n",
        "model = Sequential()\n",
        "model.add(Dense(512, input_shape=(max_words,)))\n",
        "model.add(Activation('relu'))\n",
        "model.add(Dropout(0.5))\n",
        "model.add(Dense(num_classes))\n",
        "model.add(Activation('softmax'))\n",
        "\n",
        "model.compile(loss='categorical_crossentropy',\n",
        "              optimizer='adam',\n",
        "              metrics=['accuracy'])\n",
        "              \n",
        "history = model.fit(x_train, y_train,\n",
        "                    batch_size=batch_size,\n",
        "                    epochs=epochs,\n",
        "                    verbose=1)\n",
        "model.summary()\n",
        "accuracy=model.evaluate(x_test, y_test)\n",
        "print('Accuracy',accuracy)"
      ],
      "metadata": {
        "id": "Vhg-_gVtCt80"
      },
      "execution_count": null,
      "outputs": []
    }
  ]
}